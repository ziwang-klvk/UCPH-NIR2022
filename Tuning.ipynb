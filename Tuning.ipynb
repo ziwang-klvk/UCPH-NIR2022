{
 "cells": [
  {
   "cell_type": "markdown",
   "metadata": {},
   "source": [
    "# Tuning\n",
    "Here I tune basic models, based on both different indexes and weighting methods."
   ]
  },
  {
   "cell_type": "code",
   "execution_count": 1,
   "metadata": {},
   "outputs": [],
   "source": [
    "import pandas as pd\n",
    "import os\n",
    "import json"
   ]
  },
  {
   "cell_type": "code",
   "execution_count": 2,
   "metadata": {},
   "outputs": [
    {
     "name": "stderr",
     "output_type": "stream",
     "text": [
      "PyTerrier 0.8.1 has loaded Terrier 5.6 (built by craigmacdonald on 2021-09-17 13:27)\n",
      "\n",
      "No etc/terrier.properties, using terrier.default.properties for bootstrap configuration.\n"
     ]
    }
   ],
   "source": [
    "import pyterrier as pt\n",
    "if not pt.started():\n",
    "    pt.init(boot_packages=[\"com.github.terrierteam:terrier-prf:-SNAPSHOT\"])  # Initialisation package for RM3"
   ]
  },
  {
   "cell_type": "code",
   "execution_count": null,
   "metadata": {},
   "outputs": [],
   "source": [
    "topics_df = pd.read_csv(\"NIR2022 dataset/train_query.csv\", dtype=str)\n",
    "print(topics_df.shape)\n",
    "topics_df\n",
    "qrels_df = pd.read_csv(\"NIR2022 dataset/train_qrel.csv\")\n",
    "print(qrels_df.shape)\n",
    "qrels_df.head()"
   ]
  },
  {
   "cell_type": "code",
   "execution_count": 3,
   "metadata": {},
   "outputs": [],
   "source": [
    "# Loading indexes\n",
    "indexref_np = pt.IndexRef.of('./indexes_p/iterindex_noprocess/data.properties')\n",
    "index_np = pt.IndexFactory.of(indexref_np)\n",
    "indexref1 = pt.IndexRef.of('./indexes_p/iterindex/data.properties')\n",
    "index1 = pt.IndexFactory.of(indexref1)\n",
    "indexref2 = pt.IndexRef.of('./indexes_p/iterindex_opt/data.properties')\n",
    "index2 = pt.IndexFactory.of(indexref2)"
   ]
  },
  {
   "cell_type": "markdown",
   "metadata": {},
   "source": [
    "### BM25"
   ]
  },
  {
   "cell_type": "code",
   "execution_count": null,
   "metadata": {},
   "outputs": [],
   "source": [
    "# cross validation\n",
    "import numpy as np\n",
    "\n",
    "f1, f2, f3 = np.split(topics_df.sample(frac=1), [int(0.33*len(topics_df)), int(0.66*len(topics_df))]) # 3 fold cv\n",
    "\n",
    "\n",
    "para_grid = {\"c\" : [1.2, 0.3],\n",
    "            \"bm25.k_1\": [0.8, 1.2],\n",
    "            \"bm25.k_3\": [0.5, 1]\n",
    "    }\n",
    "\n",
    "\n",
    "bm25_idx_np = pt.BatchRetrieve(index_np, wmodel=\"BM25\", controls={\"c\" : 0.75, \"bm25.k_1\": 0.75, \"bm25.k_3\": 0.75})\n",
    "qrels_df.qid = qrels_df.qid.astype('str')\n",
    "opt_results_np, opt_para1_np = pt.KFoldGridSearch(\n",
    "    bm25_idx_np,\n",
    "    {bm25_idx_np: para_grid},\n",
    "    [f1, f2, f3],\n",
    "    qrels_df,\n",
    "    'map')\n",
    "\n",
    "\n",
    "bm25_idx1 = pt.BatchRetrieve(index1, wmodel=\"BM25\", controls={\"c\" : 0.75, \"bm25.k_1\": 0.75, \"bm25.k_3\": 0.75})\n",
    "qrels_df.qid = qrels_df.qid.astype('str')\n",
    "opt_results1, opt_para1 = pt.KFoldGridSearch(\n",
    "    bm25_idx1,\n",
    "    {bm25_idx1: para_grid},\n",
    "    [f1, f2, f3],\n",
    "    qrels_df,\n",
    "    'map')\n",
    "\n",
    "\n",
    "bm25_idx2 = pt.BatchRetrieve(index2, wmodel=\"BM25\", controls={\"c\" : 0.75, \"bm25.k_1\": 0.75, \"bm25.k_3\": 0.75})\n",
    "qrels_df.qid = qrels_df.qid.astype('str')\n",
    "opt_results2, opt_para2 = pt.KFoldGridSearch(\n",
    "    bm25_idx2,\n",
    "    {bm25_idx2: para_grid},\n",
    "    [f1, f2, f3],\n",
    "    qrels_df,\n",
    "    'ndcg')\n"
   ]
  },
  {
   "cell_type": "code",
   "execution_count": null,
   "metadata": {},
   "outputs": [],
   "source": [
    "pt.Experiment([opt_results2], \n",
    "topics_df, qrels_df,[\"map\",\"ndcg\",\"recip_rank\"], \n",
    "names=['Snowball Stemming'])"
   ]
  },
  {
   "cell_type": "markdown",
   "metadata": {},
   "source": [
    "The optimal parameters I got is [c: 0.3, k1: 0.8, k3:0.5] "
   ]
  },
  {
   "cell_type": "markdown",
   "metadata": {},
   "source": [
    "### Language Model"
   ]
  },
  {
   "cell_type": "code",
   "execution_count": null,
   "metadata": {},
   "outputs": [],
   "source": [
    "# Average doc length\n",
    "adl = int(index_np.getCollectionStatistics().getAverageDocumentLength())\n",
    "\n",
    "qrels_df.qid = qrels_df.qid.astype('str')"
   ]
  },
  {
   "cell_type": "code",
   "execution_count": null,
   "metadata": {},
   "outputs": [],
   "source": [
    "DLM_np = pt.BatchRetrieve(index_np, wmodel='DirichletLM', controls={'c': adl})\n",
    "DLM_idx1 = pt.BatchRetrieve(index1, wmodel='DirichletLM', controls={'c': adl})\n",
    "DLM_idx2 = pt.BatchRetrieve(index2, wmodel='DirichletLM', controls={'c': adl})\n",
    "\n",
    "para_grid = {'c':[adl, 150, 500]}\n",
    "\n",
    "qrels_df.qid = qrels_df.qid.astype('str')\n",
    "dlm_results_np, dlm_para_np = pt.KFoldGridSearch(\n",
    "    DLM_np,\n",
    "    {DLM_np: para_grid},\n",
    "    [f1, f2, f3],\n",
    "    qrels_df,\n",
    "    'map')\n",
    "\n",
    "qrels_df.qid = qrels_df.qid.astype('str')\n",
    "dlm_results1, dlm_para1 = pt.KFoldGridSearch(\n",
    "    DLM_idx1,\n",
    "    {DLM_idx1: para_grid},\n",
    "    [f1, f2, f3],\n",
    "    qrels_df,\n",
    "    'map')\n",
    "\n",
    "qrels_df.qid = qrels_df.qid.astype('str')\n",
    "dlm_results2, dlm_para2 = pt.KFoldGridSearch(\n",
    "    DLM_idx2,\n",
    "    {DLM_idx2: para_grid},\n",
    "    [f1, f2, f3],\n",
    "    qrels_df,\n",
    "    'map')"
   ]
  },
  {
   "cell_type": "markdown",
   "metadata": {},
   "source": [
    "c=275 for DLM model."
   ]
  },
  {
   "cell_type": "code",
   "execution_count": null,
   "metadata": {},
   "outputs": [],
   "source": [
    "pt.Experiment([opt_results_np, opt_results1, opt_results2, dlm_results_np, dlm_results1, dlm_results2], \n",
    "topics_df, qrels_df,[\"map\",\"ndcg\",\"recip_rank\",'ndcg_cut_10','P_10'], \n",
    "names=['BM25-No stemming','BM25-Porter','BM25-Snowball','DLM-No stemming','DLM-Porter','DLM-Snowball'])"
   ]
  },
  {
   "cell_type": "markdown",
   "metadata": {},
   "source": [
    "Basically, snowball stemmed index and BM25 outperformed. Thus I use the snowball index in the future stage."
   ]
  },
  {
   "cell_type": "code",
   "execution_count": null,
   "metadata": {},
   "outputs": [],
   "source": [
    "HLM = pt.BatchRetrieve(index2, wmodel='Hiemstra_LM', controls={'c':0.15})\n",
    "para_grid = {\"c\" : [0.15, 0.1, 0.5, 1]}\n",
    "HLM_results, HLM_paras = pt.KFoldGridSearch(HLM, {HLM: para_grid}, [f1,f2,f3], qrels_df, 'map')"
   ]
  },
  {
   "cell_type": "code",
   "execution_count": null,
   "metadata": {},
   "outputs": [],
   "source": [
    "bm25f = pt.BatchRetrieve(index2, wmodel='BM25F')\n",
    "pt.Experiment([bm25f],topics_df,qrels_df,['map'])"
   ]
  },
  {
   "cell_type": "code",
   "execution_count": null,
   "metadata": {},
   "outputs": [],
   "source": [
    "pt.Experiment([opt_results2, bm25f_results, dlm_results2, HLM_results],topics_df, qrels_df,[\"map\",\"ndcg\",\"recip_rank\",'ndcg_cut_10','P_10'], \n",
    "names=['BM25','BM25F','DLM','HLM'] )"
   ]
  },
  {
   "cell_type": "markdown",
   "metadata": {},
   "source": [
    "HLM and BM25F are also compared here."
   ]
  },
  {
   "cell_type": "code",
   "execution_count": null,
   "metadata": {},
   "outputs": [],
   "source": []
  }
 ],
 "metadata": {
  "interpreter": {
   "hash": "40d3a090f54c6569ab1632332b64b2c03c39dcf918b08424e98f38b5ae0af88f"
  },
  "kernelspec": {
   "display_name": "Python 3.8.12 ('base')",
   "language": "python",
   "name": "python3"
  },
  "language_info": {
   "codemirror_mode": {
    "name": "ipython",
    "version": 3
   },
   "file_extension": ".py",
   "mimetype": "text/x-python",
   "name": "python",
   "nbconvert_exporter": "python",
   "pygments_lexer": "ipython3",
   "version": "3.8.12"
  },
  "orig_nbformat": 4
 },
 "nbformat": 4,
 "nbformat_minor": 2
}
