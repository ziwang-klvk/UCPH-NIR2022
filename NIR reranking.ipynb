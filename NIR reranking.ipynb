{
 "cells": [
  {
   "cell_type": "markdown",
   "metadata": {},
   "source": [
    "# Neural information retrieval. Qeury expansion & reranking."
   ]
  },
  {
   "cell_type": "code",
   "execution_count": null,
   "metadata": {},
   "outputs": [],
   "source": [
    "import pandas as pd\n",
    "import os\n",
    "import json"
   ]
  },
  {
   "cell_type": "code",
   "execution_count": null,
   "metadata": {},
   "outputs": [],
   "source": [
    "import pyterrier as pt\n",
    "if not pt.started():\n",
    "    pt.init(boot_packages=[\"com.github.terrierteam:terrier-prf:-SNAPSHOT\"])  # Initialisation package for RM3"
   ]
  },
  {
   "cell_type": "code",
   "execution_count": null,
   "metadata": {},
   "outputs": [],
   "source": [
    "# Loading indexes\n",
    "indexref_np = pt.IndexRef.of('./indexes_p/iterindex_noprocess/data.properties')\n",
    "index_np = pt.IndexFactory.of(indexref_np)\n",
    "indexref1 = pt.IndexRef.of('./indexes_p/iterindex/data.properties')\n",
    "index1 = pt.IndexFactory.of(indexref1)\n",
    "indexref2 = pt.IndexRef.of('./indexes_p/iterindex_opt/data.properties')\n",
    "index2 = pt.IndexFactory.of(indexref2)"
   ]
  },
  {
   "cell_type": "code",
   "execution_count": null,
   "metadata": {},
   "outputs": [],
   "source": [
    "topics_df = pd.read_csv(\"NIR2022 dataset/train_query.csv\", dtype=str)\n",
    "print(topics_df.shape)\n",
    "topics_df\n",
    "qrels_df = pd.read_csv(\"NIR2022 dataset/train_qrel.csv\")\n",
    "print(qrels_df.shape)\n",
    "qrels_df.head()"
   ]
  },
  {
   "cell_type": "markdown",
   "metadata": {},
   "source": [
    "### word2vec rewriting"
   ]
  },
  {
   "cell_type": "code",
   "execution_count": null,
   "metadata": {},
   "outputs": [],
   "source": [
    "# word embedding\n",
    "import gensim\n",
    "import gensim.downloader as api"
   ]
  },
  {
   "cell_type": "code",
   "execution_count": null,
   "metadata": {},
   "outputs": [],
   "source": [
    "w2v_model = api.load('word2vec-google-news-300')\n",
    "\n",
    "k=2\n",
    "\n",
    "topics_qe_df = topics_df.copy()\n",
    "for i in range(len(topics_qe_df)):\n",
    "    q = topics_qe_df.iloc[i]['query']\n",
    "    qe = []\n",
    "    for word in q.split(' '):\n",
    "        # OOV\n",
    "        try:\n",
    "            expanded_words = [pair[0] for pair in w2v_model.most_similar(word, topn=k) if pair[0].isalnum()]\n",
    "        except:\n",
    "            expanded_words = []\n",
    "        expanded_words.append(word)\n",
    "        qe.append(expanded_words)\n",
    "    topics_qe_df.iloc[i]['query'] = gensim.parsing.preprocessing.remove_stopwords(\" \".join([e for l in qe for e in l]))"
   ]
  },
  {
   "cell_type": "code",
   "execution_count": null,
   "metadata": {},
   "outputs": [],
   "source": [
    "# bm25 model with optimized parameters\n",
    "bm25 = pt.BatchRetrieve(index2, wmodel='BM25', controls={'c':0.3,'bm25.k_1':0.8,'bm25.k_3':0.5})\n",
    "DLM = pt.BatchRetrieve(index2, wmodel='DirichletLM', controls={'c':275})\n",
    "DPH = pt.BatchRetrieve(index2, wmodel=\"DPH\")\n",
    "rm3 = pt.rewrite.RM3(index2)\n",
    "rm3_pipe = bm25 >> rm3 >> bm25\n",
    "\n",
    "\n",
    "bo1 = pt.rewrite.Bo1QueryExpansion(index2)\n",
    "bm25_bo1 = bm25 >> bo1 >> bm25\n",
    "dph_bo1 = DPH >> bo1 >> DPH"
   ]
  },
  {
   "cell_type": "code",
   "execution_count": null,
   "metadata": {},
   "outputs": [],
   "source": [
    "pt.Experiment(\n",
    "    retr_systems=[bm25,DLM, DPH, bm25_bo1, dph_bo1, rm3_pipe],\n",
    "    names=['bm25','DLM','DPH','bm25_bo1','DPH_bo1','bm25_rm3'],\n",
    "    topics=topics_df,\n",
    "    qrels=qrels_df,\n",
    "    eval_metrics=[\"map\", \"ndcg\", \"ndcg_cut_10\", \"P_10\", ])"
   ]
  },
  {
   "cell_type": "code",
   "execution_count": null,
   "metadata": {},
   "outputs": [],
   "source": [
    "pt.Experiment(\n",
    "    retr_systems=[bm25,DLM],\n",
    "    names=['bm25','DLM'],\n",
    "    topics=topics_qe_df,\n",
    "    qrels=qrels_df,\n",
    "    eval_metrics=[\"map\", \"ndcg\", \"ndcg_cut_10\", \"P_10\"])"
   ]
  },
  {
   "cell_type": "code",
   "execution_count": null,
   "metadata": {},
   "outputs": [],
   "source": [
    "# save runs for bm25+rm3 top1000\n",
    "K=1000\n",
    "rm3_pipe_topk = rm3_pipe % K\n",
    "bm25_run = []\n",
    "for _, row in topics_df.iterrows():\n",
    "    qid, query = row\n",
    "    res_df = rm3_pipe_topk.search(query)\n",
    "    for _, res_row in res_df.iterrows():\n",
    "        _, docid, docno, rank, score, query, _ = res_row\n",
    "        row_str = f\"{qid} 0 {docno} {rank} {score} tfidf\"\n",
    "        bm25_run.append(row_str)\n",
    "with open(\"outputs/bm25_rm3_top1000.run\", \"w\") as f:\n",
    "    for l in bm25_run:\n",
    "        f.write(l + \"\\n\")"
   ]
  },
  {
   "cell_type": "markdown",
   "metadata": {},
   "source": [
    "### BERT encoder"
   ]
  },
  {
   "cell_type": "code",
   "execution_count": null,
   "metadata": {},
   "outputs": [],
   "source": [
    "from sentence_transformers import SentenceTransformer, util\n",
    "from sentence_transformers import CrossEncoder\n",
    "import tqdm\n",
    "model = CrossEncoder('cross-encoder/ms-marco-MiniLM-L-12-v2')"
   ]
  },
  {
   "cell_type": "code",
   "execution_count": null,
   "metadata": {},
   "outputs": [],
   "source": [
    "import jsonlines\n",
    "from tqdm import tqdm\n",
    "corpus = {}\n",
    "with jsonlines.open(\"NIR2022 dataset/corpus.jsonl\", mode=\"r\") as reader:\n",
    "    for row in tqdm(reader):\n",
    "            docno = row[\"_id\"]\n",
    "            title = row[\"title\"]\n",
    "            text = row[\"text\"]\n",
    "\n",
    "            corpus[docno] = text\n",
    "\n",
    "    print(\"corpus num\",len(corpus))"
   ]
  },
  {
   "cell_type": "code",
   "execution_count": null,
   "metadata": {},
   "outputs": [],
   "source": [
    "import collections\n",
    "from tqdm import tqdm\n",
    "def load_run(path):\n",
    "    \"\"\"Loads run into a dict of key: query_id, value: list of candidate doc\n",
    "    ids.\"\"\"\n",
    "    print('Loading run...')\n",
    "    run = collections.OrderedDict()\n",
    "    with open(path) as f:\n",
    "        for line in tqdm(f):\n",
    "            query_id, _, doc_title, rank, _, _ = line.split(' ')\n",
    "            if query_id not in run:\n",
    "                run[query_id] = []\n",
    "            run[query_id].append((doc_title, int(rank)))\n",
    "\n",
    "    # Sort candidate docs by rank.\n",
    "    sorted_run = collections.OrderedDict()\n",
    "    for query_id, doc_titles_ranks in run.items():\n",
    "        sorted(doc_titles_ranks, key=lambda x: x[1])\n",
    "        doc_titles = [doc_titles for doc_titles, _ in doc_titles_ranks]\n",
    "        sorted_run[query_id] = doc_titles\n",
    "\n",
    "    return sorted_run\n",
    "\n",
    "run = load_run(\"outputs/bm25_rm3_top1000.run\")"
   ]
  },
  {
   "cell_type": "code",
   "execution_count": null,
   "metadata": {},
   "outputs": [],
   "source": [
    "test_query = topics_df\n",
    "# test_query = topics_test_df\n",
    "\n",
    "# Pipeline\n",
    "import spacy\n",
    "# Sentencizer\n",
    "nlp = spacy.blank(\"en\")\n",
    "nlp.add_pipe(nlp.create_pipe('sentencizer'))\n",
    "\n",
    "stride = 5\n",
    "max_length = 10\n",
    "queries = dict(zip(test_query['qid'].to_list(), test_query['query'].to_list()))\n",
    "\n",
    "n_segments = 0\n",
    "n_docs = 0\n",
    "n_doc_ids_not_found = 0\n",
    "\n",
    "# model_name_avg = \"cross_avg\"\n",
    "# model_name_sum = \"cross_sum\"\n",
    "model_name = \"cross_max1\"\n",
    "# cross_run_avg = []\n",
    "# cross_run_sum = []\n",
    "cross_run = []\n",
    "\n",
    "for query_id, doc_ids in tqdm(run.items(), total=len(run)):\n",
    "  \n",
    "    print(f'{query_id}: Converting to segments...')\n",
    "    query_text = queries[query_id]\n",
    "    passages = []\n",
    "    for doc_id in doc_ids:\n",
    "        if doc_id not in corpus:\n",
    "            n_doc_ids_not_found += 1\n",
    "            continue\n",
    "        n_docs += 1\n",
    "        doc_text = corpus[doc_id]\n",
    "        doc = nlp(doc_text[:10000])\n",
    "        sentences = [str(sent).strip() for sent in doc.sents]\n",
    "        for i in range(0, len(sentences), stride):\n",
    "            segment = ' '.join(sentences[i:i + max_length])\n",
    "            passages.append([doc_id, segment])\n",
    "            n_segments += 1\n",
    "            if i + max_length >= len(sentences):\n",
    "                break\n",
    "\n",
    "    print(f'{query_id}: Reranking...')\n",
    "\n",
    "    # get the score \n",
    "    # todo\n",
    "    model_inputs = []\n",
    "    docno_inputs = []\n",
    "    model_doc_inputs = pd.DataFrame([[query_text, docno, doc] for docno, doc in passages], columns=['query', 'docno', 'doc'])\n",
    "    model_inputs = model_doc_inputs[['query','doc']].values.tolist()\n",
    "    scores = model.predict(model_inputs)\n",
    "    model_doc_inputs['scores'] = scores\n",
    "    # avg_scores = model_doc_inputs['scores'].groupby(model_doc_inputs['docno']).mean().to_dict()\n",
    "    # sum_scores = model_doc_inputs['scores'].groupby(model_doc_inputs['docno']).sum().to_dict()\n",
    "    max_scores = model_doc_inputs['scores'].groupby(model_doc_inputs['docno']).max().to_dict()\n",
    "    # results_avg = avg_scores\n",
    "    # results_sum = sum_scores\n",
    "    results_max = max_scores\n",
    "    # sorted_avg_results=dict(sorted(results_avg.items(), key=lambda x: x[1], reverse=True))\n",
    "    # sorted_sum_results=dict(sorted(results_sum.items(), key=lambda x: x[1], reverse=True))\n",
    "    sorted_max_results=dict(sorted(results_max.items(), key=lambda x: x[1], reverse=True))\n",
    "    # Sort the scores in decreasing order\n",
    "    # results = [{'input': inp, 'docno': docno, 'score': score} for inp, docno, score in zip(model_inputs, docno_inputs, scores)]\n",
    "    # results = sorted(results, key=lambda x: x['score'], reverse=True)\n",
    "\n",
    "    # Save the results in TREC format\n",
    "    # for rank, hit in enumerate(sorted_avg_results.items()):\n",
    "    #     docno = hit[0]\n",
    "    #     score = hit[1]\n",
    "    #     row_str = f\"{query_id} Q0 {docno} {rank+1} {score} {model_name_avg}\"\n",
    "    #     cross_run_avg.append(row_str)    \n",
    "\n",
    "    # for rank, hit in enumerate(sorted_sum_results.items()):\n",
    "    #     docno = hit[0]\n",
    "    #     score = hit[1]\n",
    "    #     row_str = f\"{query_id} Q0 {docno} {rank+1} {score} {model_name_sum}\"\n",
    "    #     cross_run_sum.append(row_str)\n",
    "  \n",
    "    for rank, hit in enumerate(sorted_max_results.items()):\n",
    "        docno = hit[0]\n",
    "        score = hit[1]\n",
    "        row_str = f\"{query_id} Q0 {docno} {rank+1} {score} {model_name}\"\n",
    "        cross_run.append(row_str)    "
   ]
  },
  {
   "cell_type": "code",
   "execution_count": null,
   "metadata": {},
   "outputs": [],
   "source": [
    "# Store ranking on disk in TREC format  \n",
    "with open(\"outputs/\" + f\"{model_name}.run\", \"w\") as f:\n",
    "    for l in cross_run:\n",
    "        f.write(l + \"\\n\")"
   ]
  }
 ],
 "metadata": {
  "language_info": {
   "name": "python"
  },
  "orig_nbformat": 4
 },
 "nbformat": 4,
 "nbformat_minor": 2
}
