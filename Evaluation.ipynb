{
 "cells": [
  {
   "cell_type": "markdown",
   "metadata": {},
   "source": [
    "# Evaluation with pytrec_eval\n",
    "Evaluation and output runs in TREC format"
   ]
  },
  {
   "cell_type": "code",
   "execution_count": 19,
   "metadata": {},
   "outputs": [
    {
     "name": "stdout",
     "output_type": "stream",
     "text": [
      "(200, 2)\n",
      "(247569, 4)\n"
     ]
    },
    {
     "data": {
      "text/html": [
       "<div>\n",
       "<style scoped>\n",
       "    .dataframe tbody tr th:only-of-type {\n",
       "        vertical-align: middle;\n",
       "    }\n",
       "\n",
       "    .dataframe tbody tr th {\n",
       "        vertical-align: top;\n",
       "    }\n",
       "\n",
       "    .dataframe thead th {\n",
       "        text-align: right;\n",
       "    }\n",
       "</style>\n",
       "<table border=\"1\" class=\"dataframe\">\n",
       "  <thead>\n",
       "    <tr style=\"text-align: right;\">\n",
       "      <th></th>\n",
       "      <th>qid</th>\n",
       "      <th>docno</th>\n",
       "      <th>label</th>\n",
       "      <th>iteration</th>\n",
       "    </tr>\n",
       "  </thead>\n",
       "  <tbody>\n",
       "    <tr>\n",
       "      <th>0</th>\n",
       "      <td>302</td>\n",
       "      <td>FBIS3-10615</td>\n",
       "      <td>0</td>\n",
       "      <td>0</td>\n",
       "    </tr>\n",
       "    <tr>\n",
       "      <th>1</th>\n",
       "      <td>302</td>\n",
       "      <td>FBIS3-10855</td>\n",
       "      <td>0</td>\n",
       "      <td>0</td>\n",
       "    </tr>\n",
       "    <tr>\n",
       "      <th>2</th>\n",
       "      <td>302</td>\n",
       "      <td>FBIS3-11418</td>\n",
       "      <td>0</td>\n",
       "      <td>0</td>\n",
       "    </tr>\n",
       "    <tr>\n",
       "      <th>3</th>\n",
       "      <td>302</td>\n",
       "      <td>FBIS3-14832</td>\n",
       "      <td>0</td>\n",
       "      <td>0</td>\n",
       "    </tr>\n",
       "    <tr>\n",
       "      <th>4</th>\n",
       "      <td>302</td>\n",
       "      <td>FBIS3-20548</td>\n",
       "      <td>1</td>\n",
       "      <td>0</td>\n",
       "    </tr>\n",
       "  </tbody>\n",
       "</table>\n",
       "</div>"
      ],
      "text/plain": [
       "   qid        docno  label iteration\n",
       "0  302  FBIS3-10615      0         0\n",
       "1  302  FBIS3-10855      0         0\n",
       "2  302  FBIS3-11418      0         0\n",
       "3  302  FBIS3-14832      0         0\n",
       "4  302  FBIS3-20548      1         0"
      ]
     },
     "execution_count": 19,
     "metadata": {},
     "output_type": "execute_result"
    }
   ],
   "source": [
    "import pytrec_eval\n",
    "import pandas as pd\n",
    "import os\n",
    "import json\n",
    "import pyterrier as pt\n",
    "if not pt.started():\n",
    "    pt.init(boot_packages=[\"com.github.terrierteam:terrier-prf:-SNAPSHOT\"])  # Initialisation package for RM3\n",
    "\n",
    "\n",
    "# Loading indexes\n",
    "indexref_np = pt.IndexRef.of('./indexes_p/iterindex_noprocess/data.properties')\n",
    "index_np = pt.IndexFactory.of(indexref_np)\n",
    "indexref1 = pt.IndexRef.of('./indexes_p/iterindex/data.properties')\n",
    "index1 = pt.IndexFactory.of(indexref1)\n",
    "indexref2 = pt.IndexRef.of('./indexes_p/iterindex_opt/data.properties')\n",
    "index2 = pt.IndexFactory.of(indexref2)\n",
    "\n",
    "# Load qrels and queries\n",
    "topics_df = pd.read_csv(\"NIR2022 dataset/train_query.csv\", dtype=str)\n",
    "print(topics_df.shape)\n",
    "topics_df\n",
    "qrels_df = pd.read_csv(\"NIR2022 dataset/train_qrel.csv\", dtype=str)\n",
    "qrels_df.label = qrels_df.label.astype('int')\n",
    "print(qrels_df.shape)\n",
    "qrels_df.head()"
   ]
  },
  {
   "cell_type": "code",
   "execution_count": 4,
   "metadata": {},
   "outputs": [],
   "source": [
    "# Load qrels in a dictionary\n",
    "qrels_dict = dict()\n",
    "for _, r in qrels_df.iterrows():\n",
    "    qid, docno, label, iteration = r\n",
    "    if qid not in qrels_dict:\n",
    "        qrels_dict[qid] = dict()\n",
    "    qrels_dict[qid][docno] = int(label)\n",
    "\n",
    "# Build evaluator based on the qrels and metrics\n",
    "metrics = {\"map\", \"ndcg_cut_5\", \"ndcg_cut_10\", \"ndcg_cut_20\", \"P_5\", \"P_10\", \"P_20\"}\n",
    "my_qrel = {q: d for q, d in qrels_dict.items()}\n",
    "evaluator = pytrec_eval.RelevanceEvaluator(my_qrel, metrics)"
   ]
  },
  {
   "cell_type": "code",
   "execution_count": 5,
   "metadata": {},
   "outputs": [],
   "source": [
    "# Load run\n",
    "# MODELavg = \"cross_avg1\"\n",
    "# MODELsum = \"cross_sum1\"\n",
    "MODELmax = \"cross_max1\"\n",
    "\n",
    "def parse(MODEL):\n",
    "    PATH_RUN = f\"outputs/{MODEL}.run\"   \n",
    "    with open(PATH_RUN, 'r') as f_run:\n",
    "        cross_run = pytrec_eval.parse_run(f_run)\n",
    "        return cross_run\n",
    "\n",
    "# cross_run_avg = parse(MODELavg)\n",
    "# cross_run_sum = parse(MODELsum)\n",
    "cross_run_max = parse(MODELmax)"
   ]
  },
  {
   "cell_type": "code",
   "execution_count": 6,
   "metadata": {},
   "outputs": [
    {
     "name": "stdout",
     "output_type": "stream",
     "text": [
      "P_5 \t 0.5266331658291458\n",
      "ndcg_cut_20 \t 0.4782812244217364\n",
      "ndcg_cut_10 \t 0.49689150400582993\n",
      "P_20 \t 0.4155778894472361\n",
      "P_10 \t 0.4934673366834171\n",
      "ndcg_cut_5 \t 0.49941187065785936\n",
      "map \t 0.31450085372827585\n"
     ]
    }
   ],
   "source": [
    "# Evaluate model\n",
    "def eva(cross_run):    \n",
    "    cross_evals = evaluator.evaluate(cross_run)\n",
    "\n",
    "    # Compute performance in different metrics for each query\n",
    "    cross_metric2vals = {m: [] for m in metrics}\n",
    "    for q, d in cross_evals.items():\n",
    "        for m, val in d.items():\n",
    "            cross_metric2vals[m].append(val)\n",
    "\n",
    "    # Average results by query\n",
    "    cross_metric2avg = dict()\n",
    "    for m in metrics:\n",
    "        val = pytrec_eval.compute_aggregated_measure(m, cross_metric2vals[m])\n",
    "        cross_metric2avg[m] = val\n",
    "        print(m, '\\t', val)\n",
    "    return cross_metric2avg\n",
    "# cross_metric2avg_avg = eva(cross_run_avg)\n",
    "# cross_metric2avg_sum = eva(cross_run_sum)\n",
    "cross_metric2avg_max = eva(cross_run_max)"
   ]
  },
  {
   "cell_type": "code",
   "execution_count": 7,
   "metadata": {},
   "outputs": [],
   "source": [
    "b1 = pt.BatchRetrieve(index1, wmodel='BM25', controls={'c':0.3,'bm25.k_1':0.8})\n",
    "b0 = pt.BatchRetrieve(index_np, wmodel='BM25', controls={'c':0.3,'bm25.k_1':0.8})\n",
    "b2 = pt.BatchRetrieve(index2, wmodel='BM25', controls={'c':0.3,'bm25.k_1':0.8})\n",
    "dlm = pt.BatchRetrieve(index2, wmodel=\"DirichletLM\", controls={'c' : 275})\n",
    "rm3 = pt.rewrite.RM3(index2, fb_lambda=0.6)\n",
    "rm3_pipe = b2 >> rm3 >> b2"
   ]
  },
  {
   "cell_type": "code",
   "execution_count": 13,
   "metadata": {},
   "outputs": [
    {
     "data": {
      "text/plain": [
       "0         0\n",
       "1         0\n",
       "2         0\n",
       "3         0\n",
       "4         1\n",
       "         ..\n",
       "247564    0\n",
       "247565    0\n",
       "247566    0\n",
       "247567    0\n",
       "247568    0\n",
       "Name: label, Length: 247569, dtype: int64"
      ]
     },
     "execution_count": 13,
     "metadata": {},
     "output_type": "execute_result"
    }
   ],
   "source": []
  },
  {
   "cell_type": "code",
   "execution_count": 20,
   "metadata": {},
   "outputs": [
    {
     "name": "stderr",
     "output_type": "stream",
     "text": [
      "/var/folders/bv/pr3l7t9914z89tn1h8g7b8sc0000gn/T/ipykernel_37151/157447600.py:7: FutureWarning: The frame.append method is deprecated and will be removed from pandas in a future version. Use pandas.concat instead.\n",
      "  experiment.append(cross_metric2avg_max, ignore_index=True)\n"
     ]
    },
    {
     "data": {
      "text/html": [
       "<div>\n",
       "<style scoped>\n",
       "    .dataframe tbody tr th:only-of-type {\n",
       "        vertical-align: middle;\n",
       "    }\n",
       "\n",
       "    .dataframe tbody tr th {\n",
       "        vertical-align: top;\n",
       "    }\n",
       "\n",
       "    .dataframe thead th {\n",
       "        text-align: right;\n",
       "    }\n",
       "</style>\n",
       "<table border=\"1\" class=\"dataframe\">\n",
       "  <thead>\n",
       "    <tr style=\"text-align: right;\">\n",
       "      <th></th>\n",
       "      <th>name</th>\n",
       "      <th>map</th>\n",
       "      <th>ndcg_cut_5</th>\n",
       "      <th>ndcg_cut_10</th>\n",
       "      <th>ndcg_cut_20</th>\n",
       "      <th>P_5</th>\n",
       "      <th>P_10</th>\n",
       "      <th>P_20</th>\n",
       "    </tr>\n",
       "  </thead>\n",
       "  <tbody>\n",
       "    <tr>\n",
       "      <th>0</th>\n",
       "      <td>BR(BM25)</td>\n",
       "      <td>0.231402</td>\n",
       "      <td>0.448493</td>\n",
       "      <td>0.423982</td>\n",
       "      <td>0.403910</td>\n",
       "      <td>0.473367</td>\n",
       "      <td>0.409548</td>\n",
       "      <td>0.342211</td>\n",
       "    </tr>\n",
       "    <tr>\n",
       "      <th>1</th>\n",
       "      <td>BR(BM25)</td>\n",
       "      <td>0.260289</td>\n",
       "      <td>0.466882</td>\n",
       "      <td>0.447841</td>\n",
       "      <td>0.422747</td>\n",
       "      <td>0.492462</td>\n",
       "      <td>0.437186</td>\n",
       "      <td>0.357538</td>\n",
       "    </tr>\n",
       "    <tr>\n",
       "      <th>2</th>\n",
       "      <td>BR(BM25)</td>\n",
       "      <td>0.261404</td>\n",
       "      <td>0.473442</td>\n",
       "      <td>0.449995</td>\n",
       "      <td>0.424825</td>\n",
       "      <td>0.500503</td>\n",
       "      <td>0.438191</td>\n",
       "      <td>0.359045</td>\n",
       "    </tr>\n",
       "    <tr>\n",
       "      <th>3</th>\n",
       "      <td>Compose(Compose(BR(BM25), QueryExpansion(/User...</td>\n",
       "      <td>0.294065</td>\n",
       "      <td>0.470086</td>\n",
       "      <td>0.460263</td>\n",
       "      <td>0.446530</td>\n",
       "      <td>0.511558</td>\n",
       "      <td>0.457789</td>\n",
       "      <td>0.389950</td>\n",
       "    </tr>\n",
       "    <tr>\n",
       "      <th>4</th>\n",
       "      <td>BR(DirichletLM)</td>\n",
       "      <td>0.239717</td>\n",
       "      <td>0.446968</td>\n",
       "      <td>0.423664</td>\n",
       "      <td>0.402892</td>\n",
       "      <td>0.460302</td>\n",
       "      <td>0.407538</td>\n",
       "      <td>0.339196</td>\n",
       "    </tr>\n",
       "    <tr>\n",
       "      <th>5</th>\n",
       "      <td>BM25 &gt;&gt; Cross-Encoder</td>\n",
       "      <td>0.314501</td>\n",
       "      <td>0.499412</td>\n",
       "      <td>0.496892</td>\n",
       "      <td>0.478281</td>\n",
       "      <td>0.526633</td>\n",
       "      <td>0.493467</td>\n",
       "      <td>0.415578</td>\n",
       "    </tr>\n",
       "  </tbody>\n",
       "</table>\n",
       "</div>"
      ],
      "text/plain": [
       "                                                name       map  ndcg_cut_5  \\\n",
       "0                                           BR(BM25)  0.231402    0.448493   \n",
       "1                                           BR(BM25)  0.260289    0.466882   \n",
       "2                                           BR(BM25)  0.261404    0.473442   \n",
       "3  Compose(Compose(BR(BM25), QueryExpansion(/User...  0.294065    0.470086   \n",
       "4                                    BR(DirichletLM)  0.239717    0.446968   \n",
       "5                              BM25 >> Cross-Encoder  0.314501    0.499412   \n",
       "\n",
       "   ndcg_cut_10  ndcg_cut_20       P_5      P_10      P_20  \n",
       "0     0.423982     0.403910  0.473367  0.409548  0.342211  \n",
       "1     0.447841     0.422747  0.492462  0.437186  0.357538  \n",
       "2     0.449995     0.424825  0.500503  0.438191  0.359045  \n",
       "3     0.460263     0.446530  0.511558  0.457789  0.389950  \n",
       "4     0.423664     0.402892  0.460302  0.407538  0.339196  \n",
       "5     0.496892     0.478281  0.526633  0.493467  0.415578  "
      ]
     },
     "execution_count": 20,
     "metadata": {},
     "output_type": "execute_result"
    }
   ],
   "source": [
    "# Compare system performance\n",
    "experiment =  pt.Experiment([b0,b1,b2,rm3_pipe,dlm], topics_df, qrels_df, [\"map\", \"ndcg_cut_5\", \"ndcg_cut_10\", \"ndcg_cut_20\", \"P_5\", \"P_10\", \"P_20\"])\n",
    "\n",
    "\n",
    "\n",
    "cross_metric2avg_max['name'] = 'BM25 >> Cross-Encoder'\n",
    "experiment.append(cross_metric2avg_max, ignore_index=True)"
   ]
  },
  {
   "cell_type": "markdown",
   "metadata": {},
   "source": [
    "### Output runs"
   ]
  },
  {
   "cell_type": "code",
   "execution_count": null,
   "metadata": {},
   "outputs": [],
   "source": [
    "!mkdir ./outputs_test"
   ]
  },
  {
   "cell_type": "code",
   "execution_count": null,
   "metadata": {},
   "outputs": [],
   "source": [
    "test_topics_df = pd.read_csv(\"NIR2022 dataset/test_query.csv\", dtype=str)\n",
    "print(test_topics_df.shape)\n",
    "test_topics_df.head()"
   ]
  },
  {
   "cell_type": "code",
   "execution_count": null,
   "metadata": {},
   "outputs": [],
   "source": [
    "bm25_idx0 = pt.BatchRetrieve(index_np, wmodel='BM25', controls={'c':0.3,'bm25.k_1':0.8,'bm25.k_3':0.5})\n",
    "bm25_idx1 = pt.BatchRetrieve(index1, wmodel='BM25', controls={'c':0.3,'bm25.k_1':0.8,'bm25.k_3':0.5})\n",
    "DLM_idx2 = pt.BatchRetrieve(index2, wmodel='DirichletLM', controls={'c': 275})"
   ]
  },
  {
   "cell_type": "code",
   "execution_count": null,
   "metadata": {},
   "outputs": [],
   "source": [
    "w2v_model = api.load('word2vec-google-news-300')\n",
    "\n",
    "k=2\n",
    "\n",
    "test_topics_qe_df = test_topics_df.copy()\n",
    "for i in range(len(test_topics_qe_df)):\n",
    "    q = test_topics_qe_df.iloc[i]['query']\n",
    "    qe = []\n",
    "    for word in q.split(' '):\n",
    "        # OOV\n",
    "        try:\n",
    "            expanded_words = [pair[0] for pair in w2v_model.most_similar(word, topn=k) if pair[0].isalnum()]\n",
    "        except:\n",
    "            expanded_words = []\n",
    "        expanded_words.append(word)\n",
    "        qe.append(expanded_words)\n",
    "    topics_qe_df.iloc[i]['query'] = gensim.parsing.preprocessing.remove_stopwords(\" \".join([e for l in qe for e in l]))\n",
    "    \n",
    "DPH = pt.BatchRetrieve(index2, wmodel=\"DPH\")\n",
    "\n",
    "def w2v_rewrite(topics):\n",
    "    return test_topics_qe_df\n",
    "\n",
    "pipeline_w2v = pt.apply.generic(w2v_rewrite) >> DPH\n",
    "\n",
    "pipeline_weight_w2v = 1.0*DPH + 0.2*pipeline_w2v\n",
    "# bm25 model with optimized parameters\n",
    "bm25 = pt.BatchRetrieve(index2, wmodel='BM25', controls={'c':0.3,'bm25.k_1':0.8,'bm25.k_3':0.5})\n",
    "\n",
    "\n",
    "bo1 = pt.rewrite.Bo1QueryExpansion(index2)\n",
    "bm25_bo1 = bm25 >> bo1 >> bm25\n",
    "dph_bo1 = DPH >> bo1 >> DPH"
   ]
  },
  {
   "cell_type": "code",
   "execution_count": null,
   "metadata": {},
   "outputs": [],
   "source": [
    "# change model name and model\n",
    "MODEL_NAME = 'MODEL_NAME'\n",
    "MODEL = rm3_pipe\n",
    "model_run = []\n",
    "for _, row in test_topics_df.iterrows():\n",
    "    qid, query = row\n",
    "    res_df = MODEL.search(query)\n",
    "    for _, res_row in res_df.iterrows():\n",
    "        _, docid, docno, rank, score, query= res_row\n",
    "        row_str = f\"{qid} Q0 {docno} {rank+1} {score} {MODEL_NAME}\"\n",
    "        model_run.append(row_str)\n",
    "with open(f\"outputs_test/{MODEL_NAME}.txt\", \"w\") as f:\n",
    "    for l in model_run:\n",
    "        f.write(l + \"\\n\")"
   ]
  },
  {
   "cell_type": "markdown",
   "metadata": {},
   "source": [
    "### Analysis\n",
    "Generating results for analysis"
   ]
  },
  {
   "cell_type": "code",
   "execution_count": 21,
   "metadata": {},
   "outputs": [],
   "source": [
    "b1 = pt.BatchRetrieve(index1, wmodel='BM25', controls={'c':0.3,'bm25.k_1':0.8})\n",
    "b0 = pt.BatchRetrieve(index_np, wmodel='BM25', controls={'c':0.3,'bm25.k_1':0.8})\n",
    "b2 = pt.BatchRetrieve(index2, wmodel='BM25', controls={'c':0.3,'bm25.k_1':0.8})\n",
    "rm3 = pt.rewrite.RM3(index2)\n",
    "rm3_pipe = b2 >> rm3 >> b2\n",
    "bo1 = pt.rewrite.Bo1QueryExpansion(index2)\n",
    "bm25_bo1 = b2 >> bo1 >> b2"
   ]
  },
  {
   "cell_type": "code",
   "execution_count": 80,
   "metadata": {},
   "outputs": [
    {
     "name": "stderr",
     "output_type": "stream",
     "text": [
      "/opt/anaconda3/lib/python3.8/site-packages/pyterrier/pipelines.py:108: UserWarning: 1 topic(s) not found in qrels. Scores for these topics are given as NaN and should not contribute to averages.\n",
      "  warn(f'{backfill_count} topic(s) not found in qrels. Scores for these topics are given as NaN and should not contribute to averages.')\n",
      "/opt/anaconda3/lib/python3.8/site-packages/pyterrier/pipelines.py:108: UserWarning: 1 topic(s) not found in qrels. Scores for these topics are given as NaN and should not contribute to averages.\n",
      "  warn(f'{backfill_count} topic(s) not found in qrels. Scores for these topics are given as NaN and should not contribute to averages.')\n",
      "/opt/anaconda3/lib/python3.8/site-packages/pyterrier/pipelines.py:108: UserWarning: 1 topic(s) not found in qrels. Scores for these topics are given as NaN and should not contribute to averages.\n",
      "  warn(f'{backfill_count} topic(s) not found in qrels. Scores for these topics are given as NaN and should not contribute to averages.')\n",
      "/opt/anaconda3/lib/python3.8/site-packages/pyterrier/pipelines.py:108: UserWarning: 1 topic(s) not found in qrels. Scores for these topics are given as NaN and should not contribute to averages.\n",
      "  warn(f'{backfill_count} topic(s) not found in qrels. Scores for these topics are given as NaN and should not contribute to averages.')\n"
     ]
    }
   ],
   "source": [
    "# Query specific evaluation\n",
    "exp = pt.Experiment([b0,b2,rm3_pipe,bm25_bo1],\n",
    " topics_df, \n",
    " qrels_df, \n",
    " [\"map\",\"ndcg_cut_10\"],\n",
    " names=['b0','b2','rm3','bo1'],\n",
    " perquery=True)"
   ]
  },
  {
   "cell_type": "code",
   "execution_count": 60,
   "metadata": {},
   "outputs": [
    {
     "data": {
      "text/html": [
       "<div>\n",
       "<style scoped>\n",
       "    .dataframe tbody tr th:only-of-type {\n",
       "        vertical-align: middle;\n",
       "    }\n",
       "\n",
       "    .dataframe tbody tr th {\n",
       "        vertical-align: top;\n",
       "    }\n",
       "\n",
       "    .dataframe thead th {\n",
       "        text-align: right;\n",
       "    }\n",
       "</style>\n",
       "<table border=\"1\" class=\"dataframe\">\n",
       "  <thead>\n",
       "    <tr style=\"text-align: right;\">\n",
       "      <th></th>\n",
       "      <th>name</th>\n",
       "      <th>qid</th>\n",
       "      <th>measure</th>\n",
       "      <th>value</th>\n",
       "    </tr>\n",
       "  </thead>\n",
       "  <tbody>\n",
       "    <tr>\n",
       "      <th>0</th>\n",
       "      <td>b0</td>\n",
       "      <td>301</td>\n",
       "      <td>map</td>\n",
       "      <td>0.059936</td>\n",
       "    </tr>\n",
       "    <tr>\n",
       "      <th>1</th>\n",
       "      <td>b0</td>\n",
       "      <td>301</td>\n",
       "      <td>ndcg_cut_5</td>\n",
       "      <td>0.491260</td>\n",
       "    </tr>\n",
       "    <tr>\n",
       "      <th>2</th>\n",
       "      <td>b0</td>\n",
       "      <td>302</td>\n",
       "      <td>map</td>\n",
       "      <td>0.615075</td>\n",
       "    </tr>\n",
       "    <tr>\n",
       "      <th>3</th>\n",
       "      <td>b0</td>\n",
       "      <td>302</td>\n",
       "      <td>ndcg_cut_5</td>\n",
       "      <td>0.830420</td>\n",
       "    </tr>\n",
       "    <tr>\n",
       "      <th>4</th>\n",
       "      <td>b0</td>\n",
       "      <td>303</td>\n",
       "      <td>map</td>\n",
       "      <td>0.247897</td>\n",
       "    </tr>\n",
       "    <tr>\n",
       "      <th>...</th>\n",
       "      <td>...</td>\n",
       "      <td>...</td>\n",
       "      <td>...</td>\n",
       "      <td>...</td>\n",
       "    </tr>\n",
       "    <tr>\n",
       "      <th>1193</th>\n",
       "      <td>rm3</td>\n",
       "      <td>697</td>\n",
       "      <td>ndcg_cut_5</td>\n",
       "      <td>0.000000</td>\n",
       "    </tr>\n",
       "    <tr>\n",
       "      <th>1194</th>\n",
       "      <td>rm3</td>\n",
       "      <td>698</td>\n",
       "      <td>map</td>\n",
       "      <td>0.470321</td>\n",
       "    </tr>\n",
       "    <tr>\n",
       "      <th>1195</th>\n",
       "      <td>rm3</td>\n",
       "      <td>698</td>\n",
       "      <td>ndcg_cut_5</td>\n",
       "      <td>0.626181</td>\n",
       "    </tr>\n",
       "    <tr>\n",
       "      <th>1196</th>\n",
       "      <td>rm3</td>\n",
       "      <td>700</td>\n",
       "      <td>map</td>\n",
       "      <td>0.133874</td>\n",
       "    </tr>\n",
       "    <tr>\n",
       "      <th>1197</th>\n",
       "      <td>rm3</td>\n",
       "      <td>700</td>\n",
       "      <td>ndcg_cut_5</td>\n",
       "      <td>0.000000</td>\n",
       "    </tr>\n",
       "  </tbody>\n",
       "</table>\n",
       "<p>1600 rows × 4 columns</p>\n",
       "</div>"
      ],
      "text/plain": [
       "     name  qid     measure     value\n",
       "0      b0  301         map  0.059936\n",
       "1      b0  301  ndcg_cut_5  0.491260\n",
       "2      b0  302         map  0.615075\n",
       "3      b0  302  ndcg_cut_5  0.830420\n",
       "4      b0  303         map  0.247897\n",
       "...   ...  ...         ...       ...\n",
       "1193  rm3  697  ndcg_cut_5  0.000000\n",
       "1194  rm3  698         map  0.470321\n",
       "1195  rm3  698  ndcg_cut_5  0.626181\n",
       "1196  rm3  700         map  0.133874\n",
       "1197  rm3  700  ndcg_cut_5  0.000000\n",
       "\n",
       "[1600 rows x 4 columns]"
      ]
     },
     "execution_count": 60,
     "metadata": {},
     "output_type": "execute_result"
    }
   ],
   "source": [
    "exp"
   ]
  },
  {
   "cell_type": "code",
   "execution_count": 82,
   "metadata": {},
   "outputs": [],
   "source": [
    "map = exp[exp['measure']=='map'].copy()\n",
    "b0map = map[map['name']=='b0'].copy()\n",
    "b2map = map[map['name']=='b2'].copy()\n",
    "rm3map = map[map['name']=='rm3'].copy()\n",
    "bo1map = map[map['name']=='bo1'].copy()"
   ]
  },
  {
   "cell_type": "code",
   "execution_count": 81,
   "metadata": {},
   "outputs": [],
   "source": [
    "ndcg5 = exp[exp['measure']=='ndcg_cut_10'].copy()\n",
    "b2ndcg = ndcg5[ndcg5['name']=='b2'].copy()"
   ]
  },
  {
   "cell_type": "code",
   "execution_count": 24,
   "metadata": {},
   "outputs": [],
   "source": [
    "rm3_hard = set(rm3map.sort_values(by='value').iloc[:10].qid)\n",
    "bo1_hard = set(bo1map.sort_values(by='value').iloc[:10].qid)\n",
    "b2_hard = set(b2map.sort_values(by='value').iloc[:10].qid)"
   ]
  },
  {
   "cell_type": "code",
   "execution_count": null,
   "metadata": {},
   "outputs": [],
   "source": [
    "hard = rm3_hard.intersection(b2_hard).intersection(bo1_hard)\n",
    "hard_query = topics_df[topics_df['qid'].isin(hard)]"
   ]
  },
  {
   "cell_type": "code",
   "execution_count": null,
   "metadata": {},
   "outputs": [],
   "source": [
    "x_ = evaluator.evaluate(cross_run_max)\n",
    "\n",
    "ds={'qid':[],'map':[]}\n",
    "for id,m in x_.items():\n",
    "    ds['qid'].append(id)\n",
    "    ds['map'].append(m['map'])\n",
    "x_map = pd.DataFrame(ds)"
   ]
  },
  {
   "cell_type": "code",
   "execution_count": null,
   "metadata": {},
   "outputs": [],
   "source": [
    "# Venn diagram\n",
    "\n",
    "import matplotlib.pyplot as plt\n",
    "from matplotlib_venn import venn2,venn2_circles,venn3\n",
    "import matplotlib.pyplot as plt\n",
    "\n",
    "k=10\n",
    "x_hard = set(x_map.sort_values(by='map').iloc[:k].qid)\n",
    "rm3_hard = set(rm3map.sort_values(by='value').iloc[:k].qid)\n",
    "bo1_hard = set(bo1map.sort_values(by='value').iloc[:k].qid)\n",
    "b2_hard = set(b2map.sort_values(by='value').iloc[:k].qid)\n",
    "\n",
    "my_dpi=150\n",
    "plt.figure(figsize=(600/my_dpi, 600/my_dpi), dpi=my_dpi)\n",
    "g=venn3(subsets = [rm3_hard, b2_hard, x_hard], \n",
    "        set_labels = ('RM3', 'BM25-NR','CE'), \n",
    "        set_colors=(\"#01a2d9\", \"#31A354\", \"#c72e29\"),\n",
    "        alpha=0.8,\n",
    "        normalize_to=1.0,\n",
    "       )\n",
    "plt.show()"
   ]
  },
  {
   "cell_type": "code",
   "execution_count": null,
   "metadata": {},
   "outputs": [],
   "source": [
    "# sort query by map\n",
    "sort_x_map = x_map.sort_values(by='map',ascending=False)\n",
    "sort_rm3map = rm3map.sort_values(by='value',ascending=False)\n",
    "sort_rm3map=sort_rm3map.dropna()\n",
    "sort_bo1map = bo1map.sort_values(by='value',ascending=False)\n",
    "sort_bo1map=sort_bo1map.dropna()\n",
    "sort_b2_map = b2map.sort_values(by='value',ascending=False)"
   ]
  },
  {
   "cell_type": "code",
   "execution_count": null,
   "metadata": {},
   "outputs": [],
   "source": [
    "# plot\n",
    "linx = np.linspace(1,199,num=199)\n",
    "plt.plot(linx, sort_x_map.map, label='CE')\n",
    "plt.plot(linx, sort_rm3map.value, label='RM3')\n",
    "plt.plot(linx, sort_bo1map.value, label='Bo1')\n",
    "fig = plt.gcf()\n",
    "plt.legend()\n",
    "fig.set_size_inches(5, 5)\n",
    "plt.xlabel('Query Difficulty for Model')\n",
    "plt.ylabel('MAP')\n",
    "plt.savefig('1.png',dpi=250)"
   ]
  },
  {
   "cell_type": "code",
   "execution_count": null,
   "metadata": {},
   "outputs": [],
   "source": [
    "k=10\n",
    "x_easy = set(sort_x_map.iloc[:k].qid)\n",
    "rm3_easy = set(sort_rm3map.iloc[:k].qid)\n",
    "bo1_easy = set(sort_bo1map.iloc[:k].qid)\n",
    "\n",
    "easy=x_easy.intersection(rm3_easy).intersection(bo1_easy)\n",
    "\n",
    "easy_query = topics_df[topics_df['qid'].isin(easy)]\n",
    "easy_query"
   ]
  },
  {
   "cell_type": "code",
   "execution_count": 84,
   "metadata": {},
   "outputs": [],
   "source": [
    "b2map = b2map.dropna(subset=['value'])\n",
    "b2ndcg = b2ndcg.dropna(subset=['value'])"
   ]
  },
  {
   "cell_type": "code",
   "execution_count": 85,
   "metadata": {},
   "outputs": [
    {
     "data": {
      "text/plain": [
       "True"
      ]
     },
     "execution_count": 85,
     "metadata": {},
     "output_type": "execute_result"
    }
   ],
   "source": [
    "list(b2map['qid']) == list(b2ndcg['qid'])"
   ]
  },
  {
   "cell_type": "markdown",
   "metadata": {},
   "source": [
    "Analysis was done based on the hard and easy queries obtained above."
   ]
  },
  {
   "cell_type": "code",
   "execution_count": 86,
   "metadata": {},
   "outputs": [],
   "source": [
    "\n",
    "ap = []\n",
    "ndcg = []\n",
    "nrels = []\n",
    "nass = []\n",
    "nas_rates = []\n",
    "for _,i in b2map.iterrows():\n",
    "    ap.append(i['value'])\n",
    "    nas = len(qrels_df[qrels_df['qid']==i['qid']])\n",
    "    nrel = len(qrels_df[(qrels_df['qid']==i['qid']) & (qrels_df['label']>0)])\n",
    "    nas_rate = nrel / nas\n",
    "    nrels.append(nrel)\n",
    "    nass.append(nas)\n",
    "    nas_rates.append(nas_rate)\n",
    "\n",
    "for _,i in b2ndcg.iterrows():\n",
    "    ndcg.append(i['value'])"
   ]
  },
  {
   "cell_type": "code",
   "execution_count": null,
   "metadata": {},
   "outputs": [],
   "source": []
  },
  {
   "cell_type": "code",
   "execution_count": 97,
   "metadata": {},
   "outputs": [
    {
     "data": {
      "text/plain": [
       "(0.07336708430516711, 0.30308571023460146)"
      ]
     },
     "execution_count": 97,
     "metadata": {},
     "output_type": "execute_result"
    }
   ],
   "source": [
    "from scipy.stats import pearsonr\n",
    "pearsonr(ndcg, nas_rates)"
   ]
  },
  {
   "cell_type": "markdown",
   "metadata": {},
   "source": []
  },
  {
   "cell_type": "code",
   "execution_count": null,
   "metadata": {},
   "outputs": [],
   "source": []
  }
 ],
 "metadata": {
  "kernelspec": {
   "display_name": "Python 3.8.12 ('base')",
   "language": "python",
   "name": "python3"
  },
  "language_info": {
   "codemirror_mode": {
    "name": "ipython",
    "version": 3
   },
   "file_extension": ".py",
   "mimetype": "text/x-python",
   "name": "python",
   "nbconvert_exporter": "python",
   "pygments_lexer": "ipython3",
   "version": "3.8.12"
  },
  "orig_nbformat": 4,
  "vscode": {
   "interpreter": {
    "hash": "40d3a090f54c6569ab1632332b64b2c03c39dcf918b08424e98f38b5ae0af88f"
   }
  }
 },
 "nbformat": 4,
 "nbformat_minor": 2
}
