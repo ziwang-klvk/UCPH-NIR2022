{
 "cells": [
  {
   "cell_type": "markdown",
   "metadata": {},
   "source": [
    "# Indexing"
   ]
  },
  {
   "cell_type": "code",
   "execution_count": 18,
   "id": "181d25c9",
   "metadata": {},
   "outputs": [],
   "source": [
    "import pandas as pd\n",
    "import os\n",
    "import json\n",
    "import pandas as pd"
   ]
  },
  {
   "cell_type": "code",
   "execution_count": 2,
   "metadata": {},
   "outputs": [
    {
     "name": "stderr",
     "output_type": "stream",
     "text": [
      "PyTerrier 0.8.1 has loaded Terrier 5.6 (built by craigmacdonald on 2021-09-17 13:27)\n",
      "\n",
      "No etc/terrier.properties, using terrier.default.properties for bootstrap configuration.\n"
     ]
    }
   ],
   "source": [
    "import pyterrier as pt\n",
    "if not pt.started():\n",
    "    pt.init(boot_packages=[\"com.github.terrierteam:terrier-prf:-SNAPSHOT\"])  # Initialisation package for RM3"
   ]
  },
  {
   "cell_type": "markdown",
   "metadata": {},
   "source": [
    "#### Load data\n",
    "Not necessary to load all documents in dataframe and then index, which occupys much memory. Here I do so to see what the documents look like."
   ]
  },
  {
   "cell_type": "code",
   "execution_count": 4,
   "metadata": {},
   "outputs": [],
   "source": [
    "df_docs = pd.read_json('NIR2022 dataset/corpus.jsonl', dtype=str, lines=True)"
   ]
  },
  {
   "cell_type": "code",
   "execution_count": null,
   "metadata": {},
   "outputs": [],
   "source": [
    "print(df_docs.shape)\n",
    "df_docs = df_docs.rename(columns={'_id':'docno'})\n",
    "df_docs.head()"
   ]
  },
  {
   "cell_type": "code",
   "execution_count": 19,
   "metadata": {},
   "outputs": [
    {
     "name": "stdout",
     "output_type": "stream",
     "text": [
      "(200, 2)\n"
     ]
    },
    {
     "data": {
      "text/html": [
       "<div>\n",
       "<style scoped>\n",
       "    .dataframe tbody tr th:only-of-type {\n",
       "        vertical-align: middle;\n",
       "    }\n",
       "\n",
       "    .dataframe tbody tr th {\n",
       "        vertical-align: top;\n",
       "    }\n",
       "\n",
       "    .dataframe thead th {\n",
       "        text-align: right;\n",
       "    }\n",
       "</style>\n",
       "<table border=\"1\" class=\"dataframe\">\n",
       "  <thead>\n",
       "    <tr style=\"text-align: right;\">\n",
       "      <th></th>\n",
       "      <th>qid</th>\n",
       "      <th>query</th>\n",
       "    </tr>\n",
       "  </thead>\n",
       "  <tbody>\n",
       "    <tr>\n",
       "      <th>0</th>\n",
       "      <td>301</td>\n",
       "      <td>international organized crime</td>\n",
       "    </tr>\n",
       "    <tr>\n",
       "      <th>1</th>\n",
       "      <td>302</td>\n",
       "      <td>poliomyelitis and post polio</td>\n",
       "    </tr>\n",
       "    <tr>\n",
       "      <th>2</th>\n",
       "      <td>303</td>\n",
       "      <td>hubble telescope achievements</td>\n",
       "    </tr>\n",
       "    <tr>\n",
       "      <th>3</th>\n",
       "      <td>306</td>\n",
       "      <td>african civilian deaths</td>\n",
       "    </tr>\n",
       "    <tr>\n",
       "      <th>4</th>\n",
       "      <td>307</td>\n",
       "      <td>new hydroelectric projects</td>\n",
       "    </tr>\n",
       "    <tr>\n",
       "      <th>...</th>\n",
       "      <td>...</td>\n",
       "      <td>...</td>\n",
       "    </tr>\n",
       "    <tr>\n",
       "      <th>195</th>\n",
       "      <td>693</td>\n",
       "      <td>newspapers electronic media</td>\n",
       "    </tr>\n",
       "    <tr>\n",
       "      <th>196</th>\n",
       "      <td>695</td>\n",
       "      <td>white collar crime sentence</td>\n",
       "    </tr>\n",
       "    <tr>\n",
       "      <th>197</th>\n",
       "      <td>697</td>\n",
       "      <td>air traffic controller</td>\n",
       "    </tr>\n",
       "    <tr>\n",
       "      <th>198</th>\n",
       "      <td>698</td>\n",
       "      <td>literacy rates africa</td>\n",
       "    </tr>\n",
       "    <tr>\n",
       "      <th>199</th>\n",
       "      <td>700</td>\n",
       "      <td>gasoline tax u s</td>\n",
       "    </tr>\n",
       "  </tbody>\n",
       "</table>\n",
       "<p>200 rows × 2 columns</p>\n",
       "</div>"
      ],
      "text/plain": [
       "     qid                          query\n",
       "0    301  international organized crime\n",
       "1    302   poliomyelitis and post polio\n",
       "2    303  hubble telescope achievements\n",
       "3    306        african civilian deaths\n",
       "4    307     new hydroelectric projects\n",
       "..   ...                            ...\n",
       "195  693    newspapers electronic media\n",
       "196  695    white collar crime sentence\n",
       "197  697         air traffic controller\n",
       "198  698          literacy rates africa\n",
       "199  700               gasoline tax u s\n",
       "\n",
       "[200 rows x 2 columns]"
      ]
     },
     "execution_count": 19,
     "metadata": {},
     "output_type": "execute_result"
    }
   ],
   "source": [
    "topics_df = pd.read_csv(\"NIR2022 dataset/train_query.csv\", dtype=str)\n",
    "print(topics_df.shape)\n",
    "topics_df\n",
    "qrels_df = pd.read_csv(\"NIR2022 dataset/train_qrel.csv\")\n",
    "print(qrels_df.shape)\n",
    "qrels_df.head()"
   ]
  },
  {
   "cell_type": "markdown",
   "metadata": {},
   "source": [
    "Default setting, with stop word removal and Porter stemming."
   ]
  },
  {
   "cell_type": "code",
   "execution_count": null,
   "metadata": {},
   "outputs": [],
   "source": [
    "# original\n",
    "if not os.path.exists('./indexes_p/iterindex'):\n",
    "    iter_indexer = pt.IterDictIndexer(\n",
    "        \"./indexes_p/iterindex\",\n",
    "        overwrite=True,\n",
    "        meta=[\"docno\", \"title\", \"text\"],\n",
    "        meta_lengths=[20, 100, 4096],\n",
    "        blocks=True\n",
    "    )\n",
    "\n",
    "    indexref = iter_indexer.index(df_docs.to_dict(orient='records'), fields=[\"title\", \"text\"])"
   ]
  },
  {
   "cell_type": "markdown",
   "metadata": {},
   "source": [
    "With stop word removal but not stemming."
   ]
  },
  {
   "cell_type": "code",
   "execution_count": null,
   "metadata": {},
   "outputs": [],
   "source": [
    "# no stemming\n",
    "if not os.path.exists('./indexes_p/iterindex_noprocess'):\n",
    "    iter_indexer_np = pt.IterDictIndexer(\n",
    "        \"./indexes_p/iterindex_noprocess\",\n",
    "        overwrite=True,\n",
    "        meta=[\"docno\", \"title\", \"text\"],\n",
    "        meta_lengths=[20, 100, 4096],\n",
    "        blocks=True\n",
    "    )\n",
    "    iter_indexer_np.setProperty('termpipelines','Stopwords')\n",
    "\n",
    "    indexref_np = iter_indexer_np.index(df_docs.to_dict(orient='records'), fields=[\"title\", \"text\"])"
   ]
  },
  {
   "cell_type": "markdown",
   "metadata": {},
   "source": [
    "With stop word removal and snowball stemming."
   ]
  },
  {
   "cell_type": "code",
   "execution_count": null,
   "metadata": {},
   "outputs": [],
   "source": [
    "# optimize with snowball stemmer\n",
    "iter_indexer_opt1 = pt.IterDictIndexer(\n",
    "    \"./indexes_p/iterindex_opt\",\n",
    "    overwrite=True,\n",
    "    meta=[\"docno\", \"title\", \"text\"],\n",
    "    meta_lengths=[20, 100, 4096],\n",
    "    blocks=True\n",
    ")\n",
    "iter_indexer_opt1.setProperty('tokeniser','EnglishTokeniser')\n",
    "iter_indexer_opt1.setProperty('termpipelines','Stopwords,EnglishSnowballStemmer')\n",
    "indexref_opt1 = iter_indexer_opt1.index(df_docs.to_dict(orient='records'), fields=[\"title\", \"text\"])"
   ]
  },
  {
   "cell_type": "code",
   "execution_count": 3,
   "metadata": {},
   "outputs": [
    {
     "name": "stdout",
     "output_type": "stream",
     "text": [
      "Number of documents: 528155\n",
      "Number of terms: 621458\n",
      "Number of postings: 90480384\n",
      "Number of fields: 2\n",
      "Number of tokens: 145322007\n",
      "Field names: [title, text]\n",
      "Positions:   true\n",
      "\n",
      "Number of documents: 528155\n",
      "Number of terms: 520520\n",
      "Number of postings: 83716130\n",
      "Number of fields: 2\n",
      "Number of tokens: 145322007\n",
      "Field names: [title, text]\n",
      "Positions:   true\n",
      "\n",
      "Number of documents: 528155\n",
      "Number of terms: 521571\n",
      "Number of postings: 83641265\n",
      "Number of fields: 2\n",
      "Number of tokens: 145322007\n",
      "Field names: [title, text]\n",
      "Positions:   true\n",
      "\n"
     ]
    }
   ],
   "source": [
    "index_np = pt.IndexFactory.of('./indexes_p/iterindex_noprocess')\n",
    "print(index_np.getCollectionStatistics())\n",
    "index = pt.IndexFactory.of('./indexes_p/iterindex')\n",
    "print(index.getCollectionStatistics())\n",
    "index_opt1 = pt.IndexFactory.of('./indexes_p/iterindex_opt')\n",
    "print(index_opt1.getCollectionStatistics())"
   ]
  },
  {
   "cell_type": "markdown",
   "metadata": {},
   "source": [
    "### Statistics"
   ]
  },
  {
   "cell_type": "code",
   "execution_count": 12,
   "metadata": {},
   "outputs": [
    {
     "name": "stdout",
     "output_type": "stream",
     "text": [
      "Number of documents: 528155\n",
      "Number of terms: 521571\n",
      "Number of postings: 83641265\n",
      "Number of fields: 2\n",
      "Number of tokens: 145322007\n",
      "Field names: [title, text]\n",
      "Positions:   true\n",
      "\n"
     ]
    }
   ],
   "source": [
    "print(index_opt1.getCollectionStatistics())\n",
    "stats = index_opt1.getCollectionStatistics()"
   ]
  },
  {
   "cell_type": "code",
   "execution_count": 15,
   "metadata": {},
   "outputs": [
    {
     "name": "stdout",
     "output_type": "stream",
     "text": [
      "Average document length: 275.1503005746419\n"
     ]
    }
   ],
   "source": [
    "print(f\"Average document length: {stats.getAverageDocumentLength()}\")"
   ]
  },
  {
   "cell_type": "code",
   "execution_count": 42,
   "metadata": {},
   "outputs": [
    {
     "name": "stdout",
     "output_type": "stream",
     "text": [
      "The average length of queries: 2.745\n"
     ]
    }
   ],
   "source": [
    "import nltk\n",
    "\n",
    "docs_len = []\n",
    "for i in topics_df['query']:\n",
    "    doc = nltk.tokenize.word_tokenize(i)\n",
    "    docs_len.append(len(doc))\n",
    "\n",
    "print(f\"The average length of queries: {sum(docs_len) / len(docs_len)}\")"
   ]
  },
  {
   "cell_type": "code",
   "execution_count": 45,
   "metadata": {},
   "outputs": [
    {
     "name": "stdout",
     "output_type": "stream",
     "text": [
      "(50, 2)\n"
     ]
    },
    {
     "data": {
      "text/html": [
       "<div>\n",
       "<style scoped>\n",
       "    .dataframe tbody tr th:only-of-type {\n",
       "        vertical-align: middle;\n",
       "    }\n",
       "\n",
       "    .dataframe tbody tr th {\n",
       "        vertical-align: top;\n",
       "    }\n",
       "\n",
       "    .dataframe thead th {\n",
       "        text-align: right;\n",
       "    }\n",
       "</style>\n",
       "<table border=\"1\" class=\"dataframe\">\n",
       "  <thead>\n",
       "    <tr style=\"text-align: right;\">\n",
       "      <th></th>\n",
       "      <th>qid</th>\n",
       "      <th>query</th>\n",
       "    </tr>\n",
       "  </thead>\n",
       "  <tbody>\n",
       "    <tr>\n",
       "      <th>0</th>\n",
       "      <td>304</td>\n",
       "      <td>endangered species mammals</td>\n",
       "    </tr>\n",
       "    <tr>\n",
       "      <th>1</th>\n",
       "      <td>305</td>\n",
       "      <td>most dangerous vehicles</td>\n",
       "    </tr>\n",
       "    <tr>\n",
       "      <th>2</th>\n",
       "      <td>310</td>\n",
       "      <td>radio waves and brain cancer</td>\n",
       "    </tr>\n",
       "    <tr>\n",
       "      <th>3</th>\n",
       "      <td>311</td>\n",
       "      <td>industrial espionage</td>\n",
       "    </tr>\n",
       "    <tr>\n",
       "      <th>4</th>\n",
       "      <td>314</td>\n",
       "      <td>marine vegetation</td>\n",
       "    </tr>\n",
       "  </tbody>\n",
       "</table>\n",
       "</div>"
      ],
      "text/plain": [
       "   qid                         query\n",
       "0  304    endangered species mammals\n",
       "1  305       most dangerous vehicles\n",
       "2  310  radio waves and brain cancer\n",
       "3  311          industrial espionage\n",
       "4  314             marine vegetation"
      ]
     },
     "execution_count": 45,
     "metadata": {},
     "output_type": "execute_result"
    }
   ],
   "source": [
    "topics_df_test = pd.read_csv(\"NIR2022 dataset/test_query.csv\", dtype=str)\n",
    "print(topics_df_test.shape)\n",
    "topics_df_test.head()"
   ]
  },
  {
   "cell_type": "code",
   "execution_count": 52,
   "metadata": {},
   "outputs": [
    {
     "data": {
      "text/html": [
       "<div>\n",
       "<style scoped>\n",
       "    .dataframe tbody tr th:only-of-type {\n",
       "        vertical-align: middle;\n",
       "    }\n",
       "\n",
       "    .dataframe tbody tr th {\n",
       "        vertical-align: top;\n",
       "    }\n",
       "\n",
       "    .dataframe thead th {\n",
       "        text-align: right;\n",
       "    }\n",
       "</style>\n",
       "<table border=\"1\" class=\"dataframe\">\n",
       "  <thead>\n",
       "    <tr style=\"text-align: right;\">\n",
       "      <th></th>\n",
       "      <th>label</th>\n",
       "      <th>iteration</th>\n",
       "    </tr>\n",
       "  </thead>\n",
       "  <tbody>\n",
       "    <tr>\n",
       "      <th>count</th>\n",
       "      <td>199.000000</td>\n",
       "      <td>199.0</td>\n",
       "    </tr>\n",
       "    <tr>\n",
       "      <th>mean</th>\n",
       "      <td>0.064724</td>\n",
       "      <td>0.0</td>\n",
       "    </tr>\n",
       "    <tr>\n",
       "      <th>std</th>\n",
       "      <td>0.072932</td>\n",
       "      <td>0.0</td>\n",
       "    </tr>\n",
       "    <tr>\n",
       "      <th>min</th>\n",
       "      <td>0.002838</td>\n",
       "      <td>0.0</td>\n",
       "    </tr>\n",
       "    <tr>\n",
       "      <th>25%</th>\n",
       "      <td>0.019741</td>\n",
       "      <td>0.0</td>\n",
       "    </tr>\n",
       "    <tr>\n",
       "      <th>50%</th>\n",
       "      <td>0.043478</td>\n",
       "      <td>0.0</td>\n",
       "    </tr>\n",
       "    <tr>\n",
       "      <th>75%</th>\n",
       "      <td>0.084021</td>\n",
       "      <td>0.0</td>\n",
       "    </tr>\n",
       "    <tr>\n",
       "      <th>max</th>\n",
       "      <td>0.623188</td>\n",
       "      <td>0.0</td>\n",
       "    </tr>\n",
       "  </tbody>\n",
       "</table>\n",
       "</div>"
      ],
      "text/plain": [
       "            label  iteration\n",
       "count  199.000000      199.0\n",
       "mean     0.064724        0.0\n",
       "std      0.072932        0.0\n",
       "min      0.002838        0.0\n",
       "25%      0.019741        0.0\n",
       "50%      0.043478        0.0\n",
       "75%      0.084021        0.0\n",
       "max      0.623188        0.0"
      ]
     },
     "execution_count": 52,
     "metadata": {},
     "output_type": "execute_result"
    }
   ],
   "source": [
    "qrels_df.groupby(qrels_df['qid']).mean().describe()"
   ]
  },
  {
   "cell_type": "code",
   "execution_count": null,
   "metadata": {},
   "outputs": [],
   "source": []
  },
  {
   "cell_type": "code",
   "execution_count": null,
   "metadata": {},
   "outputs": [],
   "source": []
  },
  {
   "cell_type": "code",
   "execution_count": 46,
   "metadata": {},
   "outputs": [
    {
     "name": "stdout",
     "output_type": "stream",
     "text": [
      "The average length of queries: 2.84\n"
     ]
    }
   ],
   "source": [
    "docs_len = []\n",
    "for i in topics_df_test['query']:\n",
    "    doc = nltk.tokenize.word_tokenize(i)\n",
    "    docs_len.append(len(doc))\n",
    "\n",
    "print(f\"The average length of queries: {sum(docs_len) / len(docs_len)}\")"
   ]
  },
  {
   "cell_type": "code",
   "execution_count": null,
   "metadata": {},
   "outputs": [],
   "source": []
  }
 ],
 "metadata": {
  "interpreter": {
   "hash": "40d3a090f54c6569ab1632332b64b2c03c39dcf918b08424e98f38b5ae0af88f"
  },
  "kernelspec": {
   "display_name": "Python 3.8.12 ('base')",
   "language": "python",
   "name": "python3"
  },
  "language_info": {
   "codemirror_mode": {
    "name": "ipython",
    "version": 3
   },
   "file_extension": ".py",
   "mimetype": "text/x-python",
   "name": "python",
   "nbconvert_exporter": "python",
   "pygments_lexer": "ipython3",
   "version": "3.8.12"
  },
  "orig_nbformat": 4
 },
 "nbformat": 4,
 "nbformat_minor": 2
}
